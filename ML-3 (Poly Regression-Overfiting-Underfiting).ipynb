{
 "cells": [
  {
   "cell_type": "markdown",
   "id": "liquid-victory",
   "metadata": {},
   "source": [
    "# Poliynomial Regression-Overfiting-Underfiting"
   ]
  },
  {
   "cell_type": "markdown",
   "id": "fdd9bb3d",
   "metadata": {},
   "source": [
    "# Polynomial Regression"
   ]
  },
  {
   "cell_type": "markdown",
   "id": "4bf7b12a",
   "metadata": {},
   "source": [
    "Polynomial Regression is a form of regression analysis in which the relationship \n",
    "between the independent variables and dependent variables are modeled in the nth degree polynomial.\n",
    "\n",
    "Types of polinomials\n",
    "\n",
    "1st degree ---> linear    b1x + b0\n",
    "\n",
    "2nd degree ---> Quadratic b2x**2 + b1x + b0\n",
    "\n",
    "3rd degree ---> Cubic     b3x**3 + b2x**2 + b1x + b0 (third order equation)"
   ]
  },
  {
   "cell_type": "markdown",
   "id": "wanted-external",
   "metadata": {},
   "source": [
    "## Import libraries"
   ]
  },
  {
   "cell_type": "code",
   "execution_count": 8,
   "id": "faced-stranger",
   "metadata": {},
   "outputs": [],
   "source": [
    "import numpy as np\n",
    "import pandas as pd\n",
    "import matplotlib.pyplot as plt\n",
    "import seaborn as sns\n",
    "plt.rcParams[\"figure.figsize\"] = (10,6)"
   ]
  },
  {
   "cell_type": "markdown",
   "id": "whole-bulgaria",
   "metadata": {},
   "source": [
    "## Polynomial Features"
   ]
  },
  {
   "cell_type": "code",
   "execution_count": 9,
   "id": "8a6bc54a",
   "metadata": {},
   "outputs": [],
   "source": [
    "from sklearn.preprocessing import PolynomialFeatures"
   ]
  },
  {
   "cell_type": "code",
   "execution_count": 10,
   "id": "willing-deposit",
   "metadata": {},
   "outputs": [
    {
     "name": "stdout",
     "output_type": "stream",
     "text": [
      "[[2 3 4]]\n"
     ]
    }
   ],
   "source": [
    "data = np.array([[2, 3, 4]]) \n",
    "print(data)"
   ]
  },
  {
   "cell_type": "code",
   "execution_count": 11,
   "id": "olive-launch",
   "metadata": {},
   "outputs": [],
   "source": [
    "trans = PolynomialFeatures(degree = 2, include_bias =False) "
   ]
  },
  {
   "cell_type": "code",
   "execution_count": 12,
   "id": "understanding-torture",
   "metadata": {},
   "outputs": [
    {
     "data": {
      "text/html": [
       "<style>#sk-container-id-1 {color: black;background-color: white;}#sk-container-id-1 pre{padding: 0;}#sk-container-id-1 div.sk-toggleable {background-color: white;}#sk-container-id-1 label.sk-toggleable__label {cursor: pointer;display: block;width: 100%;margin-bottom: 0;padding: 0.3em;box-sizing: border-box;text-align: center;}#sk-container-id-1 label.sk-toggleable__label-arrow:before {content: \"▸\";float: left;margin-right: 0.25em;color: #696969;}#sk-container-id-1 label.sk-toggleable__label-arrow:hover:before {color: black;}#sk-container-id-1 div.sk-estimator:hover label.sk-toggleable__label-arrow:before {color: black;}#sk-container-id-1 div.sk-toggleable__content {max-height: 0;max-width: 0;overflow: hidden;text-align: left;background-color: #f0f8ff;}#sk-container-id-1 div.sk-toggleable__content pre {margin: 0.2em;color: black;border-radius: 0.25em;background-color: #f0f8ff;}#sk-container-id-1 input.sk-toggleable__control:checked~div.sk-toggleable__content {max-height: 200px;max-width: 100%;overflow: auto;}#sk-container-id-1 input.sk-toggleable__control:checked~label.sk-toggleable__label-arrow:before {content: \"▾\";}#sk-container-id-1 div.sk-estimator input.sk-toggleable__control:checked~label.sk-toggleable__label {background-color: #d4ebff;}#sk-container-id-1 div.sk-label input.sk-toggleable__control:checked~label.sk-toggleable__label {background-color: #d4ebff;}#sk-container-id-1 input.sk-hidden--visually {border: 0;clip: rect(1px 1px 1px 1px);clip: rect(1px, 1px, 1px, 1px);height: 1px;margin: -1px;overflow: hidden;padding: 0;position: absolute;width: 1px;}#sk-container-id-1 div.sk-estimator {font-family: monospace;background-color: #f0f8ff;border: 1px dotted black;border-radius: 0.25em;box-sizing: border-box;margin-bottom: 0.5em;}#sk-container-id-1 div.sk-estimator:hover {background-color: #d4ebff;}#sk-container-id-1 div.sk-parallel-item::after {content: \"\";width: 100%;border-bottom: 1px solid gray;flex-grow: 1;}#sk-container-id-1 div.sk-label:hover label.sk-toggleable__label {background-color: #d4ebff;}#sk-container-id-1 div.sk-serial::before {content: \"\";position: absolute;border-left: 1px solid gray;box-sizing: border-box;top: 0;bottom: 0;left: 50%;z-index: 0;}#sk-container-id-1 div.sk-serial {display: flex;flex-direction: column;align-items: center;background-color: white;padding-right: 0.2em;padding-left: 0.2em;position: relative;}#sk-container-id-1 div.sk-item {position: relative;z-index: 1;}#sk-container-id-1 div.sk-parallel {display: flex;align-items: stretch;justify-content: center;background-color: white;position: relative;}#sk-container-id-1 div.sk-item::before, #sk-container-id-1 div.sk-parallel-item::before {content: \"\";position: absolute;border-left: 1px solid gray;box-sizing: border-box;top: 0;bottom: 0;left: 50%;z-index: -1;}#sk-container-id-1 div.sk-parallel-item {display: flex;flex-direction: column;z-index: 1;position: relative;background-color: white;}#sk-container-id-1 div.sk-parallel-item:first-child::after {align-self: flex-end;width: 50%;}#sk-container-id-1 div.sk-parallel-item:last-child::after {align-self: flex-start;width: 50%;}#sk-container-id-1 div.sk-parallel-item:only-child::after {width: 0;}#sk-container-id-1 div.sk-dashed-wrapped {border: 1px dashed gray;margin: 0 0.4em 0.5em 0.4em;box-sizing: border-box;padding-bottom: 0.4em;background-color: white;}#sk-container-id-1 div.sk-label label {font-family: monospace;font-weight: bold;display: inline-block;line-height: 1.2em;}#sk-container-id-1 div.sk-label-container {text-align: center;}#sk-container-id-1 div.sk-container {/* jupyter's `normalize.less` sets `[hidden] { display: none; }` but bootstrap.min.css set `[hidden] { display: none !important; }` so we also need the `!important` here to be able to override the default hidden behavior on the sphinx rendered scikit-learn.org. See: https://github.com/scikit-learn/scikit-learn/issues/21755 */display: inline-block !important;position: relative;}#sk-container-id-1 div.sk-text-repr-fallback {display: none;}</style><div id=\"sk-container-id-1\" class=\"sk-top-container\"><div class=\"sk-text-repr-fallback\"><pre>PolynomialFeatures(include_bias=False)</pre><b>In a Jupyter environment, please rerun this cell to show the HTML representation or trust the notebook. <br />On GitHub, the HTML representation is unable to render, please try loading this page with nbviewer.org.</b></div><div class=\"sk-container\" hidden><div class=\"sk-item\"><div class=\"sk-estimator sk-toggleable\"><input class=\"sk-toggleable__control sk-hidden--visually\" id=\"sk-estimator-id-1\" type=\"checkbox\" checked><label for=\"sk-estimator-id-1\" class=\"sk-toggleable__label sk-toggleable__label-arrow\">PolynomialFeatures</label><div class=\"sk-toggleable__content\"><pre>PolynomialFeatures(include_bias=False)</pre></div></div></div></div></div>"
      ],
      "text/plain": [
       "PolynomialFeatures(include_bias=False)"
      ]
     },
     "execution_count": 12,
     "metadata": {},
     "output_type": "execute_result"
    }
   ],
   "source": [
    "trans.fit(data) # 2, 3, 4 , 2x3, 2x4, 3x4, 2**2, 3**2, 4**2 "
   ]
  },
  {
   "cell_type": "code",
   "execution_count": 14,
   "id": "3f324091",
   "metadata": {},
   "outputs": [],
   "source": [
    "# 2, 3, 4, 2x3, 2x4, 3x4, 2**2, 3**2, 4**2, 2x3x4, 3x2**2, 4x2**2, 2x3**2, 4x3**2, 2x4**2, 3x4**2, 2**3, 3**3, 4**3"
   ]
  },
  {
   "cell_type": "code",
   "execution_count": 15,
   "id": "exposed-sphere",
   "metadata": {},
   "outputs": [
    {
     "data": {
      "text/plain": [
       "array([[ 2.,  3.,  4.,  4.,  6.,  8.,  9., 12., 16.]])"
      ]
     },
     "execution_count": 15,
     "metadata": {},
     "output_type": "execute_result"
    }
   ],
   "source": [
    "trans.transform(data)"
   ]
  },
  {
   "cell_type": "code",
   "execution_count": 16,
   "id": "elder-assist",
   "metadata": {},
   "outputs": [
    {
     "data": {
      "text/plain": [
       "array([[ 2.,  3.,  4.,  4.,  6.,  8.,  9., 12., 16.]])"
      ]
     },
     "execution_count": 16,
     "metadata": {},
     "output_type": "execute_result"
    }
   ],
   "source": [
    "trans.fit_transform(data) # Combination of fit and transform in a single code."
   ]
  },
  {
   "cell_type": "markdown",
   "id": "listed-startup",
   "metadata": {},
   "source": [
    "## Read Dataset"
   ]
  },
  {
   "cell_type": "code",
   "execution_count": 17,
   "id": "valued-brand",
   "metadata": {},
   "outputs": [],
   "source": [
    "df = pd.read_csv(\"Advertising.csv\") "
   ]
  },
  {
   "cell_type": "code",
   "execution_count": 18,
   "id": "taken-taylor",
   "metadata": {},
   "outputs": [
    {
     "data": {
      "text/html": [
       "<div>\n",
       "<style scoped>\n",
       "    .dataframe tbody tr th:only-of-type {\n",
       "        vertical-align: middle;\n",
       "    }\n",
       "\n",
       "    .dataframe tbody tr th {\n",
       "        vertical-align: top;\n",
       "    }\n",
       "\n",
       "    .dataframe thead th {\n",
       "        text-align: right;\n",
       "    }\n",
       "</style>\n",
       "<table border=\"1\" class=\"dataframe\">\n",
       "  <thead>\n",
       "    <tr style=\"text-align: right;\">\n",
       "      <th></th>\n",
       "      <th>TV</th>\n",
       "      <th>radio</th>\n",
       "      <th>newspaper</th>\n",
       "      <th>sales</th>\n",
       "    </tr>\n",
       "  </thead>\n",
       "  <tbody>\n",
       "    <tr>\n",
       "      <th>0</th>\n",
       "      <td>230.1</td>\n",
       "      <td>37.8</td>\n",
       "      <td>69.2</td>\n",
       "      <td>22.1</td>\n",
       "    </tr>\n",
       "    <tr>\n",
       "      <th>1</th>\n",
       "      <td>44.5</td>\n",
       "      <td>39.3</td>\n",
       "      <td>45.1</td>\n",
       "      <td>10.4</td>\n",
       "    </tr>\n",
       "    <tr>\n",
       "      <th>2</th>\n",
       "      <td>17.2</td>\n",
       "      <td>45.9</td>\n",
       "      <td>69.3</td>\n",
       "      <td>9.3</td>\n",
       "    </tr>\n",
       "    <tr>\n",
       "      <th>3</th>\n",
       "      <td>151.5</td>\n",
       "      <td>41.3</td>\n",
       "      <td>58.5</td>\n",
       "      <td>18.5</td>\n",
       "    </tr>\n",
       "    <tr>\n",
       "      <th>4</th>\n",
       "      <td>180.8</td>\n",
       "      <td>10.8</td>\n",
       "      <td>58.4</td>\n",
       "      <td>12.9</td>\n",
       "    </tr>\n",
       "    <tr>\n",
       "      <th>...</th>\n",
       "      <td>...</td>\n",
       "      <td>...</td>\n",
       "      <td>...</td>\n",
       "      <td>...</td>\n",
       "    </tr>\n",
       "    <tr>\n",
       "      <th>195</th>\n",
       "      <td>38.2</td>\n",
       "      <td>3.7</td>\n",
       "      <td>13.8</td>\n",
       "      <td>7.6</td>\n",
       "    </tr>\n",
       "    <tr>\n",
       "      <th>196</th>\n",
       "      <td>94.2</td>\n",
       "      <td>4.9</td>\n",
       "      <td>8.1</td>\n",
       "      <td>9.7</td>\n",
       "    </tr>\n",
       "    <tr>\n",
       "      <th>197</th>\n",
       "      <td>177.0</td>\n",
       "      <td>9.3</td>\n",
       "      <td>6.4</td>\n",
       "      <td>12.8</td>\n",
       "    </tr>\n",
       "    <tr>\n",
       "      <th>198</th>\n",
       "      <td>283.6</td>\n",
       "      <td>42.0</td>\n",
       "      <td>66.2</td>\n",
       "      <td>25.5</td>\n",
       "    </tr>\n",
       "    <tr>\n",
       "      <th>199</th>\n",
       "      <td>232.1</td>\n",
       "      <td>8.6</td>\n",
       "      <td>8.7</td>\n",
       "      <td>13.4</td>\n",
       "    </tr>\n",
       "  </tbody>\n",
       "</table>\n",
       "<p>200 rows × 4 columns</p>\n",
       "</div>"
      ],
      "text/plain": [
       "        TV  radio  newspaper  sales\n",
       "0    230.1   37.8       69.2   22.1\n",
       "1     44.5   39.3       45.1   10.4\n",
       "2     17.2   45.9       69.3    9.3\n",
       "3    151.5   41.3       58.5   18.5\n",
       "4    180.8   10.8       58.4   12.9\n",
       "..     ...    ...        ...    ...\n",
       "195   38.2    3.7       13.8    7.6\n",
       "196   94.2    4.9        8.1    9.7\n",
       "197  177.0    9.3        6.4   12.8\n",
       "198  283.6   42.0       66.2   25.5\n",
       "199  232.1    8.6        8.7   13.4\n",
       "\n",
       "[200 rows x 4 columns]"
      ]
     },
     "execution_count": 18,
     "metadata": {},
     "output_type": "execute_result"
    }
   ],
   "source": [
    "df"
   ]
  },
  {
   "cell_type": "markdown",
   "id": "declared-leave",
   "metadata": {},
   "source": [
    "## Polynomial Converter"
   ]
  },
  {
   "attachments": {
    "image.png": {
     "image/png": "[encoded data removed]"
    }
   },
   "cell_type": "markdown",
   "id": "1fce725a",
   "metadata": {},
   "source": [
    "##### Orion Hoca\n",
    "![image.png](attachment:image.png)"
   ]
  },
  {
   "cell_type": "code",
   "execution_count": 19,
   "id": "invalid-northern",
   "metadata": {},
   "outputs": [],
   "source": [
    "X = df.drop(\"sales\", axis =1) \n",
    "y = df.sales"
   ]
  },
  {
   "cell_type": "code",
   "execution_count": 14,
   "id": "892bd137",
   "metadata": {},
   "outputs": [],
   "source": [
    "polynomial_converter = PolynomialFeatures(degree = 2 , include_bias= False)"
   ]
  },
  {
   "cell_type": "code",
   "execution_count": 25,
   "id": "pointed-violin",
   "metadata": {},
   "outputs": [],
   "source": [
    "poly_features = polynomial_converter.transform(X)"
   ]
  },
  {
   "cell_type": "code",
   "execution_count": 26,
   "id": "operational-stevens",
   "metadata": {},
   "outputs": [
    {
     "data": {
      "text/plain": [
       "array([[ 230.1 ,   37.8 ,   69.2 , ..., 1428.84, 2615.76, 4788.64],\n",
       "       [  44.5 ,   39.3 ,   45.1 , ..., 1544.49, 1772.43, 2034.01],\n",
       "       [  17.2 ,   45.9 ,   69.3 , ..., 2106.81, 3180.87, 4802.49],\n",
       "       ...,\n",
       "       [ 177.  ,    9.3 ,    6.4 , ...,   86.49,   59.52,   40.96],\n",
       "       [ 283.6 ,   42.  ,   66.2 , ..., 1764.  , 2780.4 , 4382.44],\n",
       "       [ 232.1 ,    8.6 ,    8.7 , ...,   73.96,   74.82,   75.69]])"
      ]
     },
     "execution_count": 26,
     "metadata": {},
     "output_type": "execute_result"
    }
   ],
   "source": [
    "poly_features"
   ]
  },
  {
   "cell_type": "code",
   "execution_count": 17,
   "id": "numerical-conclusion",
   "metadata": {},
   "outputs": [
    {
     "data": {
      "text/plain": [
       "(200, 9)"
      ]
     },
     "execution_count": 17,
     "metadata": {},
     "output_type": "execute_result"
    }
   ],
   "source": [
    "poly_features.shape "
   ]
  },
  {
   "cell_type": "code",
   "execution_count": 18,
   "id": "ab691652",
   "metadata": {},
   "outputs": [
    {
     "data": {
      "text/html": [
       "<div>\n",
       "<style scoped>\n",
       "    .dataframe tbody tr th:only-of-type {\n",
       "        vertical-align: middle;\n",
       "    }\n",
       "\n",
       "    .dataframe tbody tr th {\n",
       "        vertical-align: top;\n",
       "    }\n",
       "\n",
       "    .dataframe thead th {\n",
       "        text-align: right;\n",
       "    }\n",
       "</style>\n",
       "<table border=\"1\" class=\"dataframe\">\n",
       "  <thead>\n",
       "    <tr style=\"text-align: right;\">\n",
       "      <th></th>\n",
       "      <th>TV</th>\n",
       "      <th>radio</th>\n",
       "      <th>newspaper</th>\n",
       "      <th>TV^2</th>\n",
       "      <th>TV&amp;Radio</th>\n",
       "      <th>TV&amp;Newspaper</th>\n",
       "      <th>Radio^2</th>\n",
       "      <th>Radio&amp;newspaper</th>\n",
       "      <th>Newspaper^2</th>\n",
       "    </tr>\n",
       "  </thead>\n",
       "  <tbody>\n",
       "    <tr>\n",
       "      <th>0</th>\n",
       "      <td>230.1</td>\n",
       "      <td>37.8</td>\n",
       "      <td>69.2</td>\n",
       "      <td>52946.01</td>\n",
       "      <td>8697.78</td>\n",
       "      <td>15922.92</td>\n",
       "      <td>1428.84</td>\n",
       "      <td>2615.76</td>\n",
       "      <td>4788.64</td>\n",
       "    </tr>\n",
       "    <tr>\n",
       "      <th>1</th>\n",
       "      <td>44.5</td>\n",
       "      <td>39.3</td>\n",
       "      <td>45.1</td>\n",
       "      <td>1980.25</td>\n",
       "      <td>1748.85</td>\n",
       "      <td>2006.95</td>\n",
       "      <td>1544.49</td>\n",
       "      <td>1772.43</td>\n",
       "      <td>2034.01</td>\n",
       "    </tr>\n",
       "    <tr>\n",
       "      <th>2</th>\n",
       "      <td>17.2</td>\n",
       "      <td>45.9</td>\n",
       "      <td>69.3</td>\n",
       "      <td>295.84</td>\n",
       "      <td>789.48</td>\n",
       "      <td>1191.96</td>\n",
       "      <td>2106.81</td>\n",
       "      <td>3180.87</td>\n",
       "      <td>4802.49</td>\n",
       "    </tr>\n",
       "    <tr>\n",
       "      <th>3</th>\n",
       "      <td>151.5</td>\n",
       "      <td>41.3</td>\n",
       "      <td>58.5</td>\n",
       "      <td>22952.25</td>\n",
       "      <td>6256.95</td>\n",
       "      <td>8862.75</td>\n",
       "      <td>1705.69</td>\n",
       "      <td>2416.05</td>\n",
       "      <td>3422.25</td>\n",
       "    </tr>\n",
       "    <tr>\n",
       "      <th>4</th>\n",
       "      <td>180.8</td>\n",
       "      <td>10.8</td>\n",
       "      <td>58.4</td>\n",
       "      <td>32688.64</td>\n",
       "      <td>1952.64</td>\n",
       "      <td>10558.72</td>\n",
       "      <td>116.64</td>\n",
       "      <td>630.72</td>\n",
       "      <td>3410.56</td>\n",
       "    </tr>\n",
       "  </tbody>\n",
       "</table>\n",
       "</div>"
      ],
      "text/plain": [
       "      TV  radio  newspaper      TV^2  TV&Radio  TV&Newspaper  Radio^2  \\\n",
       "0  230.1   37.8       69.2  52946.01   8697.78      15922.92  1428.84   \n",
       "1   44.5   39.3       45.1   1980.25   1748.85       2006.95  1544.49   \n",
       "2   17.2   45.9       69.3    295.84    789.48       1191.96  2106.81   \n",
       "3  151.5   41.3       58.5  22952.25   6256.95       8862.75  1705.69   \n",
       "4  180.8   10.8       58.4  32688.64   1952.64      10558.72   116.64   \n",
       "\n",
       "   Radio&newspaper  Newspaper^2  \n",
       "0          2615.76      4788.64  \n",
       "1          1772.43      2034.01  \n",
       "2          3180.87      4802.49  \n",
       "3          2416.05      3422.25  \n",
       "4           630.72      3410.56  "
      ]
     },
     "execution_count": 18,
     "metadata": {},
     "output_type": "execute_result"
    }
   ],
   "source": [
    "pd.DataFrame(poly_features , columns= [\"TV\", \"radio\", \"newspaper\", \"TV^2\", \"TV&Radio\", \\\n",
    "                                   \"TV&Newspaper\", \"Radio^2\", \"Radio&newspaper\", \"Newspaper^2\"]).head()"
   ]
  },
  {
   "cell_type": "code",
   "execution_count": 19,
   "id": "radio-panic",
   "metadata": {},
   "outputs": [
    {
     "data": {
      "text/plain": [
       "(200, 3)"
      ]
     },
     "execution_count": 19,
     "metadata": {},
     "output_type": "execute_result"
    }
   ],
   "source": [
    "X.shape"
   ]
  },
  {
   "cell_type": "markdown",
   "id": "unique-hours",
   "metadata": {},
   "source": [
    "## Train | Test Split"
   ]
  },
  {
   "cell_type": "code",
   "execution_count": 20,
   "id": "236dc563",
   "metadata": {},
   "outputs": [],
   "source": [
    "from sklearn.model_selection import train_test_split"
   ]
  },
  {
   "cell_type": "code",
   "execution_count": 31,
   "id": "enormous-cemetery",
   "metadata": {},
   "outputs": [],
   "source": [
    "X_train, X_test, y_train, y_test = train_test_split(poly_features, y, test_size = 0.3, random_state = 101)"
   ]
  },
  {
   "cell_type": "code",
   "execution_count": 23,
   "id": "3a40b811",
   "metadata": {},
   "outputs": [
    {
     "data": {
      "text/plain": [
       "(140, 9)"
      ]
     },
     "execution_count": 23,
     "metadata": {},
     "output_type": "execute_result"
    }
   ],
   "source": [
    "X_train.shape"
   ]
  },
  {
   "cell_type": "markdown",
   "id": "proud-district",
   "metadata": {},
   "source": [
    "## Model for fitting"
   ]
  },
  {
   "cell_type": "code",
   "execution_count": 24,
   "id": "d69ec4d5",
   "metadata": {},
   "outputs": [],
   "source": [
    "from sklearn.linear_model import LinearRegression"
   ]
  },
  {
   "cell_type": "code",
   "execution_count": 25,
   "id": "fe52bf9f",
   "metadata": {},
   "outputs": [],
   "source": [
    "model_poly = LinearRegression()"
   ]
  },
  {
   "cell_type": "code",
   "execution_count": 27,
   "id": "critical-comparison",
   "metadata": {},
   "outputs": [
    {
     "data": {
      "text/html": [
       "<style>#sk-container-id-3 {color: black;background-color: white;}#sk-container-id-3 pre{padding: 0;}#sk-container-id-3 div.sk-toggleable {background-color: white;}#sk-container-id-3 label.sk-toggleable__label {cursor: pointer;display: block;width: 100%;margin-bottom: 0;padding: 0.3em;box-sizing: border-box;text-align: center;}#sk-container-id-3 label.sk-toggleable__label-arrow:before {content: \"▸\";float: left;margin-right: 0.25em;color: #696969;}#sk-container-id-3 label.sk-toggleable__label-arrow:hover:before {color: black;}#sk-container-id-3 div.sk-estimator:hover label.sk-toggleable__label-arrow:before {color: black;}#sk-container-id-3 div.sk-toggleable__content {max-height: 0;max-width: 0;overflow: hidden;text-align: left;background-color: #f0f8ff;}#sk-container-id-3 div.sk-toggleable__content pre {margin: 0.2em;color: black;border-radius: 0.25em;background-color: #f0f8ff;}#sk-container-id-3 input.sk-toggleable__control:checked~div.sk-toggleable__content {max-height: 200px;max-width: 100%;overflow: auto;}#sk-container-id-3 input.sk-toggleable__control:checked~label.sk-toggleable__label-arrow:before {content: \"▾\";}#sk-container-id-3 div.sk-estimator input.sk-toggleable__control:checked~label.sk-toggleable__label {background-color: #d4ebff;}#sk-container-id-3 div.sk-label input.sk-toggleable__control:checked~label.sk-toggleable__label {background-color: #d4ebff;}#sk-container-id-3 input.sk-hidden--visually {border: 0;clip: rect(1px 1px 1px 1px);clip: rect(1px, 1px, 1px, 1px);height: 1px;margin: -1px;overflow: hidden;padding: 0;position: absolute;width: 1px;}#sk-container-id-3 div.sk-estimator {font-family: monospace;background-color: #f0f8ff;border: 1px dotted black;border-radius: 0.25em;box-sizing: border-box;margin-bottom: 0.5em;}#sk-container-id-3 div.sk-estimator:hover {background-color: #d4ebff;}#sk-container-id-3 div.sk-parallel-item::after {content: \"\";width: 100%;border-bottom: 1px solid gray;flex-grow: 1;}#sk-container-id-3 div.sk-label:hover label.sk-toggleable__label {background-color: #d4ebff;}#sk-container-id-3 div.sk-serial::before {content: \"\";position: absolute;border-left: 1px solid gray;box-sizing: border-box;top: 0;bottom: 0;left: 50%;z-index: 0;}#sk-container-id-3 div.sk-serial {display: flex;flex-direction: column;align-items: center;background-color: white;padding-right: 0.2em;padding-left: 0.2em;position: relative;}#sk-container-id-3 div.sk-item {position: relative;z-index: 1;}#sk-container-id-3 div.sk-parallel {display: flex;align-items: stretch;justify-content: center;background-color: white;position: relative;}#sk-container-id-3 div.sk-item::before, #sk-container-id-3 div.sk-parallel-item::before {content: \"\";position: absolute;border-left: 1px solid gray;box-sizing: border-box;top: 0;bottom: 0;left: 50%;z-index: -1;}#sk-container-id-3 div.sk-parallel-item {display: flex;flex-direction: column;z-index: 1;position: relative;background-color: white;}#sk-container-id-3 div.sk-parallel-item:first-child::after {align-self: flex-end;width: 50%;}#sk-container-id-3 div.sk-parallel-item:last-child::after {align-self: flex-start;width: 50%;}#sk-container-id-3 div.sk-parallel-item:only-child::after {width: 0;}#sk-container-id-3 div.sk-dashed-wrapped {border: 1px dashed gray;margin: 0 0.4em 0.5em 0.4em;box-sizing: border-box;padding-bottom: 0.4em;background-color: white;}#sk-container-id-3 div.sk-label label {font-family: monospace;font-weight: bold;display: inline-block;line-height: 1.2em;}#sk-container-id-3 div.sk-label-container {text-align: center;}#sk-container-id-3 div.sk-container {/* jupyter's `normalize.less` sets `[hidden] { display: none; }` but bootstrap.min.css set `[hidden] { display: none !important; }` so we also need the `!important` here to be able to override the default hidden behavior on the sphinx rendered scikit-learn.org. See: https://github.com/scikit-learn/scikit-learn/issues/21755 */display: inline-block !important;position: relative;}#sk-container-id-3 div.sk-text-repr-fallback {display: none;}</style><div id=\"sk-container-id-3\" class=\"sk-top-container\"><div class=\"sk-text-repr-fallback\"><pre>LinearRegression()</pre><b>In a Jupyter environment, please rerun this cell to show the HTML representation or trust the notebook. <br />On GitHub, the HTML representation is unable to render, please try loading this page with nbviewer.org.</b></div><div class=\"sk-container\" hidden><div class=\"sk-item\"><div class=\"sk-estimator sk-toggleable\"><input class=\"sk-toggleable__control sk-hidden--visually\" id=\"sk-estimator-id-3\" type=\"checkbox\" checked><label for=\"sk-estimator-id-3\" class=\"sk-toggleable__label sk-toggleable__label-arrow\">LinearRegression</label><div class=\"sk-toggleable__content\"><pre>LinearRegression()</pre></div></div></div></div></div>"
      ],
      "text/plain": [
       "LinearRegression()"
      ]
     },
     "execution_count": 27,
     "metadata": {},
     "output_type": "execute_result"
    }
   ],
   "source": [
    "model_poly.fit(X_train, y_train) "
   ]
  },
  {
   "cell_type": "code",
   "execution_count": 28,
   "id": "dd6fbf07",
   "metadata": {},
   "outputs": [],
   "source": [
    "y_pred = model_poly.predict(X_test)\n",
    "y_train_pred = model_poly.predict(X_train)"
   ]
  },
  {
   "cell_type": "code",
   "execution_count": 29,
   "id": "0f2b3fa7",
   "metadata": {},
   "outputs": [
    {
     "data": {
      "text/html": [
       "<div>\n",
       "<style scoped>\n",
       "    .dataframe tbody tr th:only-of-type {\n",
       "        vertical-align: middle;\n",
       "    }\n",
       "\n",
       "    .dataframe tbody tr th {\n",
       "        vertical-align: top;\n",
       "    }\n",
       "\n",
       "    .dataframe thead th {\n",
       "        text-align: right;\n",
       "    }\n",
       "</style>\n",
       "<table border=\"1\" class=\"dataframe\">\n",
       "  <thead>\n",
       "    <tr style=\"text-align: right;\">\n",
       "      <th></th>\n",
       "      <th>Actual</th>\n",
       "      <th>pred</th>\n",
       "      <th>residual</th>\n",
       "    </tr>\n",
       "  </thead>\n",
       "  <tbody>\n",
       "    <tr>\n",
       "      <th>37</th>\n",
       "      <td>14.7</td>\n",
       "      <td>13.948562</td>\n",
       "      <td>0.751438</td>\n",
       "    </tr>\n",
       "    <tr>\n",
       "      <th>109</th>\n",
       "      <td>19.8</td>\n",
       "      <td>19.334803</td>\n",
       "      <td>0.465197</td>\n",
       "    </tr>\n",
       "    <tr>\n",
       "      <th>31</th>\n",
       "      <td>11.9</td>\n",
       "      <td>12.319282</td>\n",
       "      <td>-0.419282</td>\n",
       "    </tr>\n",
       "    <tr>\n",
       "      <th>89</th>\n",
       "      <td>16.7</td>\n",
       "      <td>16.762863</td>\n",
       "      <td>-0.062863</td>\n",
       "    </tr>\n",
       "    <tr>\n",
       "      <th>66</th>\n",
       "      <td>9.5</td>\n",
       "      <td>7.902109</td>\n",
       "      <td>1.597891</td>\n",
       "    </tr>\n",
       "    <tr>\n",
       "      <th>119</th>\n",
       "      <td>6.6</td>\n",
       "      <td>6.941438</td>\n",
       "      <td>-0.341438</td>\n",
       "    </tr>\n",
       "    <tr>\n",
       "      <th>54</th>\n",
       "      <td>20.2</td>\n",
       "      <td>20.133727</td>\n",
       "      <td>0.066273</td>\n",
       "    </tr>\n",
       "    <tr>\n",
       "      <th>74</th>\n",
       "      <td>17.0</td>\n",
       "      <td>17.500927</td>\n",
       "      <td>-0.500927</td>\n",
       "    </tr>\n",
       "    <tr>\n",
       "      <th>145</th>\n",
       "      <td>10.3</td>\n",
       "      <td>10.568890</td>\n",
       "      <td>-0.268890</td>\n",
       "    </tr>\n",
       "    <tr>\n",
       "      <th>142</th>\n",
       "      <td>20.1</td>\n",
       "      <td>20.125518</td>\n",
       "      <td>-0.025518</td>\n",
       "    </tr>\n",
       "    <tr>\n",
       "      <th>148</th>\n",
       "      <td>10.9</td>\n",
       "      <td>9.446145</td>\n",
       "      <td>1.453855</td>\n",
       "    </tr>\n",
       "    <tr>\n",
       "      <th>112</th>\n",
       "      <td>14.1</td>\n",
       "      <td>14.099354</td>\n",
       "      <td>0.000646</td>\n",
       "    </tr>\n",
       "    <tr>\n",
       "      <th>174</th>\n",
       "      <td>11.5</td>\n",
       "      <td>12.055135</td>\n",
       "      <td>-0.555135</td>\n",
       "    </tr>\n",
       "    <tr>\n",
       "      <th>55</th>\n",
       "      <td>23.7</td>\n",
       "      <td>23.392540</td>\n",
       "      <td>0.307460</td>\n",
       "    </tr>\n",
       "    <tr>\n",
       "      <th>141</th>\n",
       "      <td>19.2</td>\n",
       "      <td>19.675084</td>\n",
       "      <td>-0.475084</td>\n",
       "    </tr>\n",
       "    <tr>\n",
       "      <th>149</th>\n",
       "      <td>10.1</td>\n",
       "      <td>9.156263</td>\n",
       "      <td>0.943737</td>\n",
       "    </tr>\n",
       "    <tr>\n",
       "      <th>25</th>\n",
       "      <td>12.0</td>\n",
       "      <td>12.116373</td>\n",
       "      <td>-0.116373</td>\n",
       "    </tr>\n",
       "    <tr>\n",
       "      <th>34</th>\n",
       "      <td>9.5</td>\n",
       "      <td>9.281496</td>\n",
       "      <td>0.218504</td>\n",
       "    </tr>\n",
       "    <tr>\n",
       "      <th>170</th>\n",
       "      <td>8.4</td>\n",
       "      <td>8.446040</td>\n",
       "      <td>-0.046040</td>\n",
       "    </tr>\n",
       "    <tr>\n",
       "      <th>39</th>\n",
       "      <td>21.5</td>\n",
       "      <td>21.655881</td>\n",
       "      <td>-0.155881</td>\n",
       "    </tr>\n",
       "  </tbody>\n",
       "</table>\n",
       "</div>"
      ],
      "text/plain": [
       "     Actual       pred  residual\n",
       "37     14.7  13.948562  0.751438\n",
       "109    19.8  19.334803  0.465197\n",
       "31     11.9  12.319282 -0.419282\n",
       "89     16.7  16.762863 -0.062863\n",
       "66      9.5   7.902109  1.597891\n",
       "119     6.6   6.941438 -0.341438\n",
       "54     20.2  20.133727  0.066273\n",
       "74     17.0  17.500927 -0.500927\n",
       "145    10.3  10.568890 -0.268890\n",
       "142    20.1  20.125518 -0.025518\n",
       "148    10.9   9.446145  1.453855\n",
       "112    14.1  14.099354  0.000646\n",
       "174    11.5  12.055135 -0.555135\n",
       "55     23.7  23.392540  0.307460\n",
       "141    19.2  19.675084 -0.475084\n",
       "149    10.1   9.156263  0.943737\n",
       "25     12.0  12.116373 -0.116373\n",
       "34      9.5   9.281496  0.218504\n",
       "170     8.4   8.446040 -0.046040\n",
       "39     21.5  21.655881 -0.155881"
      ]
     },
     "execution_count": 29,
     "metadata": {},
     "output_type": "execute_result"
    }
   ],
   "source": [
    "my_dict = {\"Actual\": y_test , \"pred\": y_pred, \"residual\": y_test-y_pred}\n",
    "compare = pd.DataFrame(my_dict)\n",
    "compare.head(20)"
   ]
  },
  {
   "cell_type": "code",
   "execution_count": 30,
   "id": "eleven-nursing",
   "metadata": {},
   "outputs": [
    {
     "data": {
      "image/png": "[encoded data removed]",
      "text/plain": [
       "<Figure size 1080x648 with 1 Axes>"
      ]
     },
     "metadata": {
      "needs_background": "light"
     },
     "output_type": "display_data"
    }
   ],
   "source": [
    "compare.head(20).plot(kind='bar',figsize=(15,9))\n",
    "plt.show();"
   ]
  },
  {
   "cell_type": "markdown",
   "id": "smart-program",
   "metadata": {},
   "source": [
    "## Poly Coefficients"
   ]
  },
  {
   "cell_type": "code",
   "execution_count": 32,
   "id": "cathedral-february",
   "metadata": {},
   "outputs": [
    {
     "data": {
      "text/plain": [
       "array([ 5.17095811e-02,  1.30848864e-02,  1.20000085e-02, -1.10892474e-04,\n",
       "        1.14212673e-03, -5.24100082e-05,  3.34919737e-05,  1.46380310e-04,\n",
       "       -3.04715806e-05])"
      ]
     },
     "execution_count": 32,
     "metadata": {},
     "output_type": "execute_result"
    }
   ],
   "source": [
    "model_poly.coef_"
   ]
  },
  {
   "cell_type": "code",
   "execution_count": 33,
   "id": "configured-chemistry",
   "metadata": {},
   "outputs": [],
   "source": [
    "df_coef = pd.DataFrame(model_poly.coef_, index = [\"TV\", \"radio\", \"newspaper\", \"TV^2\", \"TV&Radio\", \\\n",
    "                                   \"TV&Newspaper\", \"Radio^2\", \"Radio&newspaper\", \"Newspaper^2\"], columns = [\"coef\"])"
   ]
  },
  {
   "cell_type": "code",
   "execution_count": 34,
   "id": "packed-parameter",
   "metadata": {},
   "outputs": [
    {
     "data": {
      "text/html": [
       "<div>\n",
       "<style scoped>\n",
       "    .dataframe tbody tr th:only-of-type {\n",
       "        vertical-align: middle;\n",
       "    }\n",
       "\n",
       "    .dataframe tbody tr th {\n",
       "        vertical-align: top;\n",
       "    }\n",
       "\n",
       "    .dataframe thead th {\n",
       "        text-align: right;\n",
       "    }\n",
       "</style>\n",
       "<table border=\"1\" class=\"dataframe\">\n",
       "  <thead>\n",
       "    <tr style=\"text-align: right;\">\n",
       "      <th></th>\n",
       "      <th>coef</th>\n",
       "    </tr>\n",
       "  </thead>\n",
       "  <tbody>\n",
       "    <tr>\n",
       "      <th>TV</th>\n",
       "      <td>0.051710</td>\n",
       "    </tr>\n",
       "    <tr>\n",
       "      <th>radio</th>\n",
       "      <td>0.013085</td>\n",
       "    </tr>\n",
       "    <tr>\n",
       "      <th>newspaper</th>\n",
       "      <td>0.012000</td>\n",
       "    </tr>\n",
       "    <tr>\n",
       "      <th>TV^2</th>\n",
       "      <td>-0.000111</td>\n",
       "    </tr>\n",
       "    <tr>\n",
       "      <th>TV&amp;Radio</th>\n",
       "      <td>0.001142</td>\n",
       "    </tr>\n",
       "    <tr>\n",
       "      <th>TV&amp;Newspaper</th>\n",
       "      <td>-0.000052</td>\n",
       "    </tr>\n",
       "    <tr>\n",
       "      <th>Radio^2</th>\n",
       "      <td>0.000033</td>\n",
       "    </tr>\n",
       "    <tr>\n",
       "      <th>Radio&amp;newspaper</th>\n",
       "      <td>0.000146</td>\n",
       "    </tr>\n",
       "    <tr>\n",
       "      <th>Newspaper^2</th>\n",
       "      <td>-0.000030</td>\n",
       "    </tr>\n",
       "  </tbody>\n",
       "</table>\n",
       "</div>"
      ],
      "text/plain": [
       "                     coef\n",
       "TV               0.051710\n",
       "radio            0.013085\n",
       "newspaper        0.012000\n",
       "TV^2            -0.000111\n",
       "TV&Radio         0.001142\n",
       "TV&Newspaper    -0.000052\n",
       "Radio^2          0.000033\n",
       "Radio&newspaper  0.000146\n",
       "Newspaper^2     -0.000030"
      ]
     },
     "execution_count": 34,
     "metadata": {},
     "output_type": "execute_result"
    }
   ],
   "source": [
    "df_coef "
   ]
  },
  {
   "cell_type": "code",
   "execution_count": 35,
   "id": "banned-transsexual",
   "metadata": {},
   "outputs": [
    {
     "data": {
      "text/plain": [
       "array([21.86190699])"
      ]
     },
     "execution_count": 35,
     "metadata": {},
     "output_type": "execute_result"
    }
   ],
   "source": [
    "model_poly.predict([[2.301000e+02, 3.780000e+01, 6.920000e+01, 5.294601e+04,\n",
    "       8.697780e+03, 1.592292e+04, 1.428840e+03, 2.615760e+03,\n",
    "       4.788640e+03]])"
   ]
  },
  {
   "cell_type": "markdown",
   "id": "intense-alberta",
   "metadata": {},
   "source": [
    "## Evaluation on the Test Set"
   ]
  },
  {
   "cell_type": "code",
   "execution_count": 36,
   "id": "ef50e148",
   "metadata": {},
   "outputs": [],
   "source": [
    "from sklearn.metrics import mean_absolute_error,mean_squared_error,r2_score"
   ]
  },
  {
   "cell_type": "code",
   "execution_count": 44,
   "id": "brilliant-producer",
   "metadata": {},
   "outputs": [],
   "source": [
    "y_pred = model_poly.predict(X_test) "
   ]
  },
  {
   "cell_type": "code",
   "execution_count": 39,
   "id": "sustainable-asian",
   "metadata": {},
   "outputs": [],
   "source": [
    "def eval_metric(actual, pred):\n",
    "    mae = mean_absolute_error(actual, pred)\n",
    "    mse = mean_squared_error(actual, pred)\n",
    "    rmse = np.sqrt(mean_squared_error(actual, pred))\n",
    "    R2_score = r2_score(actual, pred)\n",
    "    print(\"Model performance:\")\n",
    "    print(\"--------------------------\")\n",
    "    print(f\"R2_score \\t: {R2_score}\")\n",
    "    print(f\"MAE \\t\\t: {mae}\")\n",
    "    print(f\"MSE \\t\\t: {mse}\")\n",
    "    print(f\"RMSE \\t\\t: {rmse}\")"
   ]
  },
  {
   "cell_type": "code",
   "execution_count": 40,
   "id": "gross-mixer",
   "metadata": {},
   "outputs": [
    {
     "name": "stdout",
     "output_type": "stream",
     "text": [
      "Model performance:\n",
      "--------------------------\n",
      "R2_score \t: 0.9843529333146787\n",
      "MAE \t\t: 0.48967980448037024\n",
      "MSE \t\t: 0.44175055104036487\n",
      "RMSE \t\t: 0.6646431757269196\n"
     ]
    }
   ],
   "source": [
    "eval_metric(y_test, y_pred)"
   ]
  },
  {
   "cell_type": "code",
   "execution_count": 41,
   "id": "revolutionary-release",
   "metadata": {},
   "outputs": [],
   "source": [
    "y_train_pred = model_poly.predict(X_train) "
   ]
  },
  {
   "cell_type": "code",
   "execution_count": 42,
   "id": "available-minimum",
   "metadata": {},
   "outputs": [
    {
     "name": "stdout",
     "output_type": "stream",
     "text": [
      "Model performance:\n",
      "--------------------------\n",
      "R2_score \t: 0.9868638137712757\n",
      "MAE \t\t: 0.40492481391516305\n",
      "MSE \t\t: 0.3456939142443997\n",
      "RMSE \t\t: 0.5879574085292231\n"
     ]
    }
   ],
   "source": [
    "eval_metric(y_train, y_train_pred) "
   ]
  },
  {
   "cell_type": "markdown",
   "id": "distant-subscription",
   "metadata": {},
   "source": [
    "* Simple Linear Regression:\n",
    "    * MAE      : 1.213\n",
    "    * RMSE     : 1.516\n",
    "    * r2_score : 0.8609\n",
    "\n",
    "* Polynomial 2-degree:\n",
    "    * MAE      : 0.48\n",
    "    * RMSE     : 0.66\n",
    "    * r2_score : 0.9868"
   ]
  },
  {
   "cell_type": "markdown",
   "id": "referenced-lebanon",
   "metadata": {},
   "source": [
    "## Let's find optimal degree of poly"
   ]
  },
  {
   "cell_type": "code",
   "execution_count": 44,
   "id": "analyzed-generator",
   "metadata": {},
   "outputs": [],
   "source": [
    "def poly(d):\n",
    "    \n",
    "    train_rmse_errors = []\n",
    "    test_rmse_errors = []\n",
    "    number_of_features = []\n",
    "    degrees=[]\n",
    "    \n",
    "    for i in range(1, d):\n",
    "        polynomial_converter = PolynomialFeatures(degree = i, include_bias =False)\n",
    "        poly_features = polynomial_converter.fit_transform(X)\n",
    "        \n",
    "        X_train, X_test, y_train, y_test = train_test_split(poly_features, y, test_size=0.3, random_state=101)\n",
    "        \n",
    "        model = LinearRegression(fit_intercept=True)\n",
    "        model.fit(X_train, y_train)\n",
    "        \n",
    "        train_pred = model.predict(X_train)\n",
    "        test_pred = model.predict(X_test)\n",
    "        \n",
    "        train_RMSE = np.sqrt(mean_squared_error(y_train,train_pred))\n",
    "        test_RMSE = np.sqrt(mean_squared_error(y_test,test_pred))\n",
    "        \n",
    "        train_rmse_errors.append(train_RMSE)\n",
    "        test_rmse_errors.append(test_RMSE)\n",
    "        \n",
    "        number_of_features.append(poly_features.shape[1])\n",
    "        degrees.append(i)\n",
    "        \n",
    "    return pd.DataFrame({\"train_rmse_errors\": train_rmse_errors, \"test_rmse_errors\":test_rmse_errors, \"Degree\":degrees}, \n",
    "                        index=range(1,d))\n",
    "        "
   ]
  },
  {
   "cell_type": "code",
   "execution_count": 47,
   "id": "fa63f155",
   "metadata": {},
   "outputs": [],
   "source": [
    "def poly(d):\n",
    "    \n",
    "    train_rmse_errors = []\n",
    "    test_rmse_errors = []\n",
    "    number_of_features = []\n",
    "    degrees = []\n",
    "    \n",
    "    for i in range (1,d):\n",
    "        polynomial_converter = PolynomialFeatures(degree = i , include_bias= False)\n",
    "        poly_features = polynomial_converter.fit_transform(X)\n",
    "        \n",
    "        X_train , X_test , y_train , y_test = train_test_split(poly_features, y, test_size= 0.3, random_state= 101)\n",
    "        \n",
    "        model = LinearRegression(fit_intercept = True)\n",
    "        model.fit (X_train , y_train)\n",
    "        \n",
    "        train_pred = model.predict(X_train)\n",
    "        test_pred = model.predict(X_test)\n",
    "        \n",
    "        train_RMSE = np.sqrt(mean_squared_error(y_train, train_pred))\n",
    "        test_RMSE = np.sqrt(mean_squared_error(y_test, test_pred))\n",
    "        \n",
    "        train_rmse_errors.append(train_RMSE)\n",
    "        test_rmse_errors.append(test_RMSE)\n",
    "        \n",
    "        number_of_features.append(poly_features.shape[1])\n",
    "        degrees.append(i)\n",
    "        \n",
    "        return pd.DataFrame({\"train_rmse_errors\": train_rmse_errors, \"test_rmse_errors\":test_rmse_errors, \"Degree\":degrees}, \n",
    "                            index=range(1,d))\n",
    "        "
   ]
  },
  {
   "cell_type": "code",
   "execution_count": 48,
   "id": "simple-synthesis",
   "metadata": {},
   "outputs": [
    {
     "data": {
      "text/html": [
       "<div>\n",
       "<style scoped>\n",
       "    .dataframe tbody tr th:only-of-type {\n",
       "        vertical-align: middle;\n",
       "    }\n",
       "\n",
       "    .dataframe tbody tr th {\n",
       "        vertical-align: top;\n",
       "    }\n",
       "\n",
       "    .dataframe thead th {\n",
       "        text-align: right;\n",
       "    }\n",
       "</style>\n",
       "<table border=\"1\" class=\"dataframe\">\n",
       "  <thead>\n",
       "    <tr style=\"text-align: right;\">\n",
       "      <th></th>\n",
       "      <th>train_rmse_errors</th>\n",
       "      <th>test_rmse_errors</th>\n",
       "      <th>Degree</th>\n",
       "    </tr>\n",
       "  </thead>\n",
       "  <tbody>\n",
       "    <tr>\n",
       "      <th>1</th>\n",
       "      <td>1.734594</td>\n",
       "      <td>1.516152</td>\n",
       "      <td>1</td>\n",
       "    </tr>\n",
       "    <tr>\n",
       "      <th>2</th>\n",
       "      <td>1.734594</td>\n",
       "      <td>1.516152</td>\n",
       "      <td>1</td>\n",
       "    </tr>\n",
       "    <tr>\n",
       "      <th>3</th>\n",
       "      <td>1.734594</td>\n",
       "      <td>1.516152</td>\n",
       "      <td>1</td>\n",
       "    </tr>\n",
       "    <tr>\n",
       "      <th>4</th>\n",
       "      <td>1.734594</td>\n",
       "      <td>1.516152</td>\n",
       "      <td>1</td>\n",
       "    </tr>\n",
       "    <tr>\n",
       "      <th>5</th>\n",
       "      <td>1.734594</td>\n",
       "      <td>1.516152</td>\n",
       "      <td>1</td>\n",
       "    </tr>\n",
       "    <tr>\n",
       "      <th>6</th>\n",
       "      <td>1.734594</td>\n",
       "      <td>1.516152</td>\n",
       "      <td>1</td>\n",
       "    </tr>\n",
       "    <tr>\n",
       "      <th>7</th>\n",
       "      <td>1.734594</td>\n",
       "      <td>1.516152</td>\n",
       "      <td>1</td>\n",
       "    </tr>\n",
       "    <tr>\n",
       "      <th>8</th>\n",
       "      <td>1.734594</td>\n",
       "      <td>1.516152</td>\n",
       "      <td>1</td>\n",
       "    </tr>\n",
       "    <tr>\n",
       "      <th>9</th>\n",
       "      <td>1.734594</td>\n",
       "      <td>1.516152</td>\n",
       "      <td>1</td>\n",
       "    </tr>\n",
       "  </tbody>\n",
       "</table>\n",
       "</div>"
      ],
      "text/plain": [
       "   train_rmse_errors  test_rmse_errors  Degree\n",
       "1           1.734594          1.516152       1\n",
       "2           1.734594          1.516152       1\n",
       "3           1.734594          1.516152       1\n",
       "4           1.734594          1.516152       1\n",
       "5           1.734594          1.516152       1\n",
       "6           1.734594          1.516152       1\n",
       "7           1.734594          1.516152       1\n",
       "8           1.734594          1.516152       1\n",
       "9           1.734594          1.516152       1"
      ]
     },
     "execution_count": 48,
     "metadata": {},
     "output_type": "execute_result"
    }
   ],
   "source": [
    "poly(10) "
   ]
  },
  {
   "cell_type": "code",
   "execution_count": 49,
   "id": "obvious-mobility",
   "metadata": {},
   "outputs": [
    {
     "data": {
      "image/png": "[encoded data removed]",
      "text/plain": [
       "<Figure size 720x432 with 1 Axes>"
      ]
     },
     "metadata": {
      "needs_background": "light"
     },
     "output_type": "display_data"
    }
   ],
   "source": [
    "# Derece 1 den 9 a kadar\n",
    "plt.plot(range(1,10), poly(10)[\"train_rmse_errors\"], label = \"TRAIN\")\n",
    "plt.plot(range(1,10), poly(10)[\"test_rmse_errors\"], label = \"TEST\")\n",
    "plt.xlabel(\"Polynamial Complex\")\n",
    "plt.ylabel(\"RMSE\")\n",
    "plt.legend();"
   ]
  },
  {
   "cell_type": "code",
   "execution_count": 50,
   "id": "southern-colonial",
   "metadata": {},
   "outputs": [
    {
     "data": {
      "image/png": "[encoded data removed]",
      "text/plain": [
       "<Figure size 720x432 with 1 Axes>"
      ]
     },
     "metadata": {
      "needs_background": "light"
     },
     "output_type": "display_data"
    }
   ],
   "source": [
    "plt.plot(range(1,6), poly(6)[\"train_rmse_errors\"], label = \"TRAIN\")\n",
    "plt.plot(range(1,6), poly(6)[\"test_rmse_errors\"], label = \"TEST\")\n",
    "plt.xlabel(\"Polynamial Complex\")\n",
    "plt.ylabel(\"RMSE\")\n",
    "plt.legend();"
   ]
  },
  {
   "cell_type": "markdown",
   "id": "continuing-patrick",
   "metadata": {},
   "source": [
    "## Finalizing Model Choice"
   ]
  },
  {
   "cell_type": "code",
   "execution_count": 61,
   "id": "right-samuel",
   "metadata": {},
   "outputs": [],
   "source": [
    "final_poly_converter = PolynomialFeatures(degree = 3, include_bias=False)"
   ]
  },
  {
   "cell_type": "code",
   "execution_count": 62,
   "id": "matched-singapore",
   "metadata": {},
   "outputs": [],
   "source": [
    "final_model = LinearRegression()"
   ]
  },
  {
   "cell_type": "code",
   "execution_count": 55,
   "id": "primary-regular",
   "metadata": {},
   "outputs": [
    {
     "data": {
      "text/plain": [
       "LinearRegression()"
      ]
     },
     "execution_count": 55,
     "metadata": {},
     "output_type": "execute_result"
    }
   ],
   "source": [
    "final_model.fit(final_poly_converter.fit_transform(X), y) "
   ]
  },
  {
   "cell_type": "markdown",
   "id": "broadband-terrorist",
   "metadata": {},
   "source": [
    "## Predictions"
   ]
  },
  {
   "cell_type": "code",
   "execution_count": 56,
   "id": "coordinate-outdoors",
   "metadata": {},
   "outputs": [],
   "source": [
    "new_record = [[150, 20, 15]]"
   ]
  },
  {
   "cell_type": "code",
   "execution_count": 57,
   "id": "varied-jonathan",
   "metadata": {},
   "outputs": [],
   "source": [
    "new_record_poly = final_poly_converter.fit_transform(new_record) "
   ]
  },
  {
   "cell_type": "code",
   "execution_count": 58,
   "id": "rocky-weapon",
   "metadata": {},
   "outputs": [
    {
     "data": {
      "text/plain": [
       "array([[1.500e+02, 2.000e+01, 1.500e+01, 2.250e+04, 3.000e+03, 2.250e+03,\n",
       "        4.000e+02, 3.000e+02, 2.250e+02, 3.375e+06, 4.500e+05, 3.375e+05,\n",
       "        6.000e+04, 4.500e+04, 3.375e+04, 8.000e+03, 6.000e+03, 4.500e+03,\n",
       "        3.375e+03]])"
      ]
     },
     "execution_count": 58,
     "metadata": {},
     "output_type": "execute_result"
    }
   ],
   "source": [
    "new_record_poly"
   ]
  },
  {
   "cell_type": "code",
   "execution_count": 59,
   "id": "legitimate-example",
   "metadata": {},
   "outputs": [
    {
     "data": {
      "text/plain": [
       "array([14.24950844])"
      ]
     },
     "execution_count": 59,
     "metadata": {},
     "output_type": "execute_result"
    }
   ],
   "source": [
    "final_model.predict(new_record_poly)"
   ]
  },
  {
   "cell_type": "markdown",
   "id": "sweet-document",
   "metadata": {},
   "source": [
    "## <span style='color:red'> Overfitting</span> "
   ]
  },
  {
   "cell_type": "code",
   "execution_count": 60,
   "id": "micro-worship",
   "metadata": {},
   "outputs": [],
   "source": [
    "over_poly_converter = PolynomialFeatures(degree =5, include_bias =False)"
   ]
  },
  {
   "cell_type": "code",
   "execution_count": 61,
   "id": "therapeutic-father",
   "metadata": {},
   "outputs": [],
   "source": [
    "over_model = LinearRegression()"
   ]
  },
  {
   "cell_type": "code",
   "execution_count": 62,
   "id": "little-video",
   "metadata": {},
   "outputs": [],
   "source": [
    "X_train, X_test, y_train, y_test = train_test_split(over_poly_converter.fit_transform(X), y, test_size=0.3, random_state=101)"
   ]
  },
  {
   "cell_type": "code",
   "execution_count": 63,
   "id": "precious-lighter",
   "metadata": {},
   "outputs": [
    {
     "data": {
      "text/plain": [
       "LinearRegression()"
      ]
     },
     "execution_count": 63,
     "metadata": {},
     "output_type": "execute_result"
    }
   ],
   "source": [
    "over_model.fit(X_train, y_train)"
   ]
  },
  {
   "cell_type": "code",
   "execution_count": 64,
   "id": "referenced-pride",
   "metadata": {},
   "outputs": [
    {
     "name": "stdout",
     "output_type": "stream",
     "text": [
      "Model performance:\n",
      "--------------------------\n",
      "R2_score \t: 0.7649916528404768\n",
      "MAE \t\t: 0.6659637641421313\n",
      "MSE \t\t: 6.634794172264552\n",
      "RMSE \t\t: 2.575809420796607\n"
     ]
    }
   ],
   "source": [
    "y_pred_over = over_model.predict(X_test)\n",
    "eval_metric(y_test, y_pred_over)"
   ]
  },
  {
   "cell_type": "code",
   "execution_count": 65,
   "id": "adapted-accident",
   "metadata": {},
   "outputs": [
    {
     "name": "stdout",
     "output_type": "stream",
     "text": [
      "Model performance:\n",
      "--------------------------\n",
      "R2_score \t: 0.9976072484167179\n",
      "MAE \t\t: 0.1862092141111129\n",
      "MSE \t\t: 0.06296802178630591\n",
      "RMSE \t\t: 0.2509342977480478\n"
     ]
    }
   ],
   "source": [
    "y_train_over = over_model.predict(X_train)\n",
    "eval_metric(y_train, y_train_over)"
   ]
  },
  {
   "cell_type": "markdown",
   "id": "fd5f69cd",
   "metadata": {},
   "source": [
    "## <span style='color:red'> Underfitting</span> "
   ]
  },
  {
   "cell_type": "raw",
   "id": "b45a3756",
   "metadata": {},
   "source": [
    "Testing data performance:\n",
    "--------------------------\n",
    "R2_score \t: 0.8609466508230367\n",
    "MAE \t\t: 1.5116692224549084\n",
    "MSE \t\t: 3.796797236715222\n",
    "RMSE \t\t: 1.9485372043446392"
   ]
  },
  {
   "cell_type": "raw",
   "id": "da7023a7",
   "metadata": {},
   "source": [
    "Training data performance:\n",
    "--------------------------\n",
    "R2_score \t: 0.9055159502227753\n",
    "MAE \t\t: 1.1581502948072524\n",
    "MSE \t\t: 2.4793551789057866\n",
    "RMSE \t\t: 1.574596830590544"
   ]
  }
 ],
 "metadata": {
  "kernelspec": {
   "display_name": "Python 3 (ipykernel)",
   "language": "python",
   "name": "python3"
  },
  "language_info": {
   "codemirror_mode": {
    "name": "ipython",
    "version": 3
   },
   "file_extension": ".py",
   "mimetype": "text/x-python",
   "name": "python",
   "nbconvert_exporter": "python",
   "pygments_lexer": "ipython3",
   "version": "3.9.12"
  }
 },
 "nbformat": 4,
 "nbformat_minor": 5
}
